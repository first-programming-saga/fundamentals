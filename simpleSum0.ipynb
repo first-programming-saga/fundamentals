{
  "cells": [
    {
      "metadata": {
        "trusted": true
      },
      "cell_type": "markdown",
      "source": "単純な計算"
    },
    {
      "metadata": {
        "trusted": true
      },
      "cell_type": "code",
      "source": "a = 10\nb = 15\nc = 8\n\ns1 = a + b + c",
      "execution_count": 3,
      "outputs": []
    },
    {
      "metadata": {
        "trusted": true
      },
      "cell_type": "markdown",
      "source": "一つの変数$s_2$に繰り返し値を加える"
    },
    {
      "metadata": {
        "trusted": true
      },
      "cell_type": "code",
      "source": "s2 = 0\ns2 = s2 + a\ns2 = s2 + b\ns2 = s2 + c\n\nprint(s1,s2)",
      "execution_count": 1,
      "outputs": [
        {
          "output_type": "stream",
          "text": "33 33\n",
          "name": "stdout"
        }
      ]
    }
  ],
  "metadata": {
    "kernelspec": {
      "name": "python36",
      "display_name": "Python 3.6",
      "language": "python"
    },
    "language_info": {
      "mimetype": "text/x-python",
      "nbconvert_exporter": "python",
      "name": "python",
      "pygments_lexer": "ipython3",
      "version": "3.6.6",
      "file_extension": ".py",
      "codemirror_mode": {
        "version": 3,
        "name": "ipython"
      }
    }
  },
  "nbformat": 4,
  "nbformat_minor": 2
}