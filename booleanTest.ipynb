{
  "cells": [
    {
      "cell_type": "markdown",
      "metadata": {},
      "source": [
        "# boole型(論理型)の例"
      ]
    },
    {
      "cell_type": "code",
      "execution_count": null,
      "metadata": {
        "scrolled": true,
        "trusted": true
      },
      "outputs": [],
      "source": [
        "#Bool型のテスト\n",
        "x = 8\n",
        "a1 = (0 <= x < 10)\n",
        "print(a1)\n",
        "a2 = (x >= 10)\n",
        "print(a2)\n",
        "a3 = ((0 <= x) and (x < 10))\n",
        "print(a3)\n",
        "a4 = (not a2)\n",
        "print(a4)\n"
      ]
    },
    {
      "cell_type": "code",
      "execution_count": null,
      "metadata": {},
      "outputs": [],
      "source": [
        "p = True\n",
        "q = False\n",
        "r = (p and q)\n",
        "print(r)"
      ]
    },
    {
      "cell_type": "markdown",
      "metadata": {},
      "source": [
        "文字列は変更不能であること確認"
      ]
    },
    {
      "cell_type": "code",
      "execution_count": null,
      "metadata": {
        "trusted": true
      },
      "outputs": [],
      "source": [
        "str0 = \"abc\"\n",
        "str1 = str0\n",
        "str0 = str0 + \"def\"\n",
        "print(str0)\n",
        "print(str1)\n",
        "print(str0 is str1)"
      ]
    },
    {
      "cell_type": "markdown",
      "metadata": {
        "trusted": true
      },
      "source": [
        "**【課題】**orとnotの例題を作成し、確かめなさい。"
      ]
    },
    {
      "cell_type": "code",
      "execution_count": null,
      "metadata": {
        "trusted": true
      },
      "outputs": [],
      "source": []
    }
  ],
  "metadata": {
    "interpreter": {
      "hash": "7d330ac3c0b25dc381f64ca0c188e362671856c25b4e80802dae9163abcbe1bb"
    },
    "kernelspec": {
      "display_name": "Python 3.9.4 64-bit",
      "name": "python3"
    },
    "language_info": {
      "codemirror_mode": {
        "name": "ipython",
        "version": 3
      },
      "file_extension": ".py",
      "mimetype": "text/x-python",
      "name": "python",
      "nbconvert_exporter": "python",
      "pygments_lexer": "ipython3",
      "version": "3.9.4"
    },
    "metadata": {
      "interpreter": {
        "hash": "ce1e901da04acbe50dd99cd0d91cb411cb2166c3507dec81ce620981a8df4741"
      }
    }
  },
  "nbformat": 4,
  "nbformat_minor": 2
}
