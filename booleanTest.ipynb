{
  "cells": [
    {
      "metadata": {},
      "cell_type": "markdown",
      "source": [
        "boole型(論理型)の例"
      ]
    },
    {
      "metadata": {
        "trusted": true,
        "scrolled": true
      },
      "cell_type": "code",
      "source": [
        "#Bool型のテスト\n",
        "x = 8\n",
        "a1 = (0 <= x < 10)\n",
        "print(a1)\n",
        "a2 = (x >= 10)\n",
        "print(a2)\n",
        "a3=((0 <= x) and (x < 10))\n",
        "print(a3)\n",
        "a4 = (not a2)\n",
        "print(a4)\n"
      ],
      "execution_count": null,
      "outputs": []
    },
    {
      "cell_type": "code",
      "execution_count": null,
      "metadata": {},
      "outputs": [],
      "source": [
        "p = True\n",
        "q = False\n",
        "r = (p and q)\n",
        "print(r)"
      ]
    },
    {
      "metadata": {},
      "cell_type": "markdown",
      "source": [
        "文字列は変更不能であること確認"
      ]
    },
    {
      "metadata": {
        "trusted": true
      },
      "cell_type": "code",
      "source": [
        "str0 = \"abc\"\n",
        "str1 = str0\n",
        "str0 = str0 + \"def\"\n",
        "print(str0)\n",
        "print(str1)\n",
        "print(str0 is str1)"
      ],
      "execution_count": null,
      "outputs": []
    },
    {
      "metadata": {
        "trusted": true
      },
      "cell_type": "markdown",
      "source": [
        "**【課題】**orとnotの例題を作成し、確かめなさい。"
      ]
    },
    {
      "metadata": {
        "trusted": true
      },
      "cell_type": "code",
      "source": [],
      "execution_count": null,
      "outputs": []
    }
  ],
  "metadata": {
    "kernelspec": {
      "name": "python3",
      "display_name": "Python 3.9.1 64-bit",
      "metadata": {
        "interpreter": {
          "hash": "d1c9a4ba5c9c176023b797405478169ed7f0a7109b887eab21bda023c3c6f220"
        }
      }
    },
    "language_info": {
      "mimetype": "text/x-python",
      "nbconvert_exporter": "python",
      "name": "python",
      "pygments_lexer": "ipython3",
      "version": "3.9.1-final",
      "file_extension": ".py",
      "codemirror_mode": {
        "version": 3,
        "name": "ipython"
      }
    }
  },
  "nbformat": 4,
  "nbformat_minor": 2
}