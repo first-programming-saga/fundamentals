{
  "cells": [
    {
      "metadata": {},
      "cell_type": "markdown",
      "source": "boole型(論理型)の例"
    },
    {
      "metadata": {
        "trusted": true,
        "scrolled": true
      },
      "cell_type": "code",
      "source": "#Bool型のテスト\nx = 8\na1 = (0 <= x < 10)\nprint(a1)\na2 = (x >= 10)\nprint(a2)\na3=((0 <= x) and (x < 10))\nprint(a3)\na4 = (not a2)\nprint(a4)\n",
      "execution_count": null,
      "outputs": []
    },
    {
      "metadata": {},
      "cell_type": "markdown",
      "source": "文字列は変更不能であること確認"
    },
    {
      "metadata": {
        "trusted": true
      },
      "cell_type": "code",
      "source": "str0 = \"abc\"\nstr1 = str0\nstr0 = str0 + \"def\"\nprint(str0)\nprint(str1)\nprint(str0 is str1)",
      "execution_count": null,
      "outputs": []
    },
    {
      "metadata": {
        "trusted": true
      },
      "cell_type": "markdown",
      "source": "**【課題】**orとnotの例題を作成し、確かめなさい。"
    },
    {
      "metadata": {
        "trusted": true
      },
      "cell_type": "code",
      "source": "",
      "execution_count": null,
      "outputs": []
    }
  ],
  "metadata": {
    "kernelspec": {
      "name": "python36",
      "display_name": "Python 3.6",
      "language": "python"
    },
    "language_info": {
      "mimetype": "text/x-python",
      "nbconvert_exporter": "python",
      "name": "python",
      "pygments_lexer": "ipython3",
      "version": "3.6.6",
      "file_extension": ".py",
      "codemirror_mode": {
        "version": 3,
        "name": "ipython"
      }
    }
  },
  "nbformat": 4,
  "nbformat_minor": 2
}