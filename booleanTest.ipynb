{
  "cells": [
    {
      "attachments": {},
      "cell_type": "markdown",
      "metadata": {},
      "source": [
        "# boole型(論理型)の例\n",
        "- 比較などの結果は、bool型になる\n",
        "- 値は'True'または'False'\n",
        "- 論理和'or'、論理積'and'、否定'not'\n",
        "\n",
        "右辺の()中で比較を行い、その結果を右辺に代入していることに注意。"
      ]
    },
    {
      "cell_type": "code",
      "execution_count": null,
      "metadata": {
        "scrolled": true,
        "trusted": true
      },
      "outputs": [],
      "source": [
        "#Bool型のテスト\n",
        "x = 8\n",
        "a1 = (0 <= x < 10)\n",
        "print(a1)\n",
        "a2 = (x >= 10)\n",
        "print(a2)\n",
        "a3 = ((0 <= x) and (x < 10))\n",
        "print(a3)\n",
        "a4 = (not a2)\n",
        "print(a4)\n"
      ]
    },
    {
      "cell_type": "markdown",
      "metadata": {},
      "source": [
        "真偽の値は、TrueとFalse。大文字で始まることに注意。"
      ]
    },
    {
      "cell_type": "code",
      "execution_count": null,
      "metadata": {},
      "outputs": [],
      "source": [
        "p = True\n",
        "q = False\n",
        "r = (p and q)\n",
        "print(r)"
      ]
    },
    {
      "attachments": {},
      "cell_type": "markdown",
      "metadata": {},
      "source": [
        "文字列は変更不能であることを確認。str0の後ろに文字列を追加することで、str0とstr1は異なるものになっている。\n",
        "- '==' は内容が同じかを判定\n",
        "- 'is' は同じオブジェクトかを判定"
      ]
    },
    {
      "cell_type": "code",
      "execution_count": null,
      "metadata": {
        "trusted": true
      },
      "outputs": [],
      "source": [
        "str0 = \"abc\"\n",
        "str1 = str0\n",
        "print(str0 is str1)\n",
        "str0 = str0 + \"def\"\n",
        "print(str0)\n",
        "print(str1)\n",
        "print(str0 is str1)"
      ]
    },
    {
      "cell_type": "markdown",
      "metadata": {
        "trusted": true
      },
      "source": [
        "## 【課題】\n",
        "\n",
        "orとnotの例題を作成し、確かめなさい。"
      ]
    },
    {
      "cell_type": "code",
      "execution_count": null,
      "metadata": {
        "trusted": true
      },
      "outputs": [],
      "source": []
    }
  ],
  "metadata": {
    "kernelspec": {
      "display_name": "Python 3.9.7 ('myenv')",
      "language": "python",
      "name": "python3"
    },
    "language_info": {
      "codemirror_mode": {
        "name": "ipython",
        "version": 3
      },
      "file_extension": ".py",
      "mimetype": "text/x-python",
      "name": "python",
      "nbconvert_exporter": "python",
      "pygments_lexer": "ipython3",
      "version": "3.9.7"
    },
    "metadata": {
      "interpreter": {
        "hash": "ce1e901da04acbe50dd99cd0d91cb411cb2166c3507dec81ce620981a8df4741"
      }
    },
    "vscode": {
      "interpreter": {
        "hash": "5b50574aca822a4663eeb358827631e5cbe081f130521b0066dec6b864ef6f2f"
      }
    }
  },
  "nbformat": 4,
  "nbformat_minor": 2
}
