{
  "cells": [
    {
      "metadata": {},
      "cell_type": "markdown",
      "source": "boole型(論理型)の例"
    },
    {
      "metadata": {
        "trusted": true
      },
      "cell_type": "code",
      "source": "#Bool型のテスト\nx = 8\na1 = (0 <= x < 10)\nprint(a1)\na2 = (x >= 10)\nprint(a2)\na3=((0 <= x) and (x < 10))\nprint(a3)\na4 = (not a2)\nprint(a4)\n",
      "execution_count": 1,
      "outputs": [
        {
          "output_type": "stream",
          "text": "True\nFalse\nTrue\nTrue\n",
          "name": "stdout"
        }
      ]
    },
    {
      "metadata": {
        "trusted": true
      },
      "cell_type": "code",
      "source": "",
      "execution_count": null,
      "outputs": []
    }
  ],
  "metadata": {
    "kernelspec": {
      "name": "python36",
      "display_name": "Python 3.6",
      "language": "python"
    },
    "language_info": {
      "mimetype": "text/x-python",
      "nbconvert_exporter": "python",
      "name": "python",
      "pygments_lexer": "ipython3",
      "version": "3.6.6",
      "file_extension": ".py",
      "codemirror_mode": {
        "version": 3,
        "name": "ipython"
      }
    }
  },
  "nbformat": 4,
  "nbformat_minor": 2
}