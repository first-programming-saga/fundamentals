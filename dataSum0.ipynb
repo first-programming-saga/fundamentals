{
  "cells": [
    {
      "metadata": {},
      "cell_type": "markdown",
      "source": "リスト中のデータ$\\lbrace d_i\\rbrace$の平均と標準偏差を求める。"
    },
    {
      "metadata": {
        "trusted": true,
        "scrolled": true
      },
      "cell_type": "code",
      "source": "#mathというモジュールを読み込む\nimport math\n#対象とするデータ\n#データが一列に並んだものをリストと言う\ndata = [80,85,90,50,100,80,75,95,100,60,80,70,65,90,85]\nn = len(data)\nprint(\"データ数 \"+str(n))\n",
      "execution_count": 1,
      "outputs": [
        {
          "output_type": "stream",
          "text": "データ数 3\n",
          "name": "stdout"
        }
      ]
    },
    {
      "metadata": {},
      "cell_type": "markdown",
      "source": "各データの和sumと、二乗の和sum2を計算する\n$$s=\\sum_i d_i$$\n$$s_2=\\sum_i d_i^2$$"
    },
    {
      "metadata": {
        "trusted": true
      },
      "cell_type": "code",
      "source": "sum = 0 #和を保存\nsum2 = 0 #二乗和を保存\nfor d in data:\n    sum  = sum + d\n    sum2 = sum2 + d*d\n    ",
      "execution_count": 2,
      "outputs": []
    },
    {
      "metadata": {},
      "cell_type": "markdown",
      "source": "和をデータの数$n$で除して、平均を求める。\n\\begin{align}\n\\langle d\\rangle &= \\frac{s}{n}\\\\\n\\langle d^2\\rangle &= \\frac{s_2}{n}\n\\end{align}\n標準偏差$\\sigma$を平均と二乗平均から求める。\n$$\\sigma^2=\\langle d^2\\rangle-\\langle d\\rangle^2$$\nなお、math.sqrt(x)は$\\sqrt{x}$を計算する関数である。"
    },
    {
      "metadata": {
        "trusted": true
      },
      "cell_type": "code",
      "source": "average = sum / n\naverage2 = sum2 / n\ns2 = average2 - average*average #分散\ndeviation = math.sqrt(s2) #標準偏差\n\n#小数点以下2桁で出力\nprint(\"平均 %.2f\" % average)\nprint(\"標準偏差 %.2f\" % deviation)",
      "execution_count": 3,
      "outputs": [
        {
          "output_type": "stream",
          "text": "平均 90.00\n標準偏差 8.16\n",
          "name": "stdout"
        }
      ]
    }
  ],
  "metadata": {
    "kernelspec": {
      "name": "python36",
      "display_name": "Python 3.6",
      "language": "python"
    },
    "language_info": {
      "mimetype": "text/x-python",
      "nbconvert_exporter": "python",
      "name": "python",
      "pygments_lexer": "ipython3",
      "version": "3.6.6",
      "file_extension": ".py",
      "codemirror_mode": {
        "version": 3,
        "name": "ipython"
      }
    }
  },
  "nbformat": 4,
  "nbformat_minor": 2
}