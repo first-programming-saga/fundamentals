{
  "cells": [
    {
      "metadata": {
        "collapsed": true
      },
      "cell_type": "markdown",
      "source": "二次方程式$ax^2+bx+c=0$の解$x_1$と$x_2$を求める。"
    },
    {
      "metadata": {
        "trusted": true
      },
      "cell_type": "code",
      "source": "import math",
      "execution_count": null,
      "outputs": []
    },
    {
      "metadata": {
        "trusted": true
      },
      "cell_type": "code",
      "source": "a=1\nb=3\nc=1",
      "execution_count": null,
      "outputs": []
    },
    {
      "metadata": {},
      "cell_type": "markdown",
      "source": "判別式$d=b^2-4ac$"
    },
    {
      "metadata": {
        "trusted": true
      },
      "cell_type": "code",
      "source": "d = b*b - 4*a*c",
      "execution_count": null,
      "outputs": []
    },
    {
      "metadata": {},
      "cell_type": "markdown",
      "source": "$d\\ge0$の場合は\n$$x_\\pm=(-b\\pm\\sqrt{d})/(2a)$$\n$d<0$の場合は\n$$x_\\pm=(-b\\pm i\\sqrt{-d})/(2a)$$\nとなる。\"1j\"が虚数単位$i$を表す。"
    },
    {
      "metadata": {
        "trusted": true
      },
      "cell_type": "code",
      "source": "if d >= 0 : #実数解\n    x_1 = (-b + math.sqrt(d))/(2*a)\n    x_2 = (-b - math.sqrt(d))/(2*a)\nelse : #複素数解\n    x_1 = (-b + 1j*math.sqrt(-d))/(2*a)\n    x_2 = (-b - 1j*math.sqrt(-d))/(2*a)\nprint(x_1,x_2)",
      "execution_count": null,
      "outputs": []
    },
    {
      "metadata": {},
      "cell_type": "markdown",
      "source": "**【課題】**$a$、$b$、及び$c$を適当に変化させ、解が分かる例題で確かめなさい。例題は、二つの実数解となる場合、重複解となる場合、複素共役解となる場合を作りなさい。"
    },
    {
      "metadata": {
        "trusted": true
      },
      "cell_type": "code",
      "source": "",
      "execution_count": null,
      "outputs": []
    }
  ],
  "metadata": {
    "kernelspec": {
      "name": "python36",
      "display_name": "Python 3.6",
      "language": "python"
    },
    "language_info": {
      "mimetype": "text/x-python",
      "nbconvert_exporter": "python",
      "name": "python",
      "pygments_lexer": "ipython3",
      "version": "3.6.6",
      "file_extension": ".py",
      "codemirror_mode": {
        "version": 3,
        "name": "ipython"
      }
    }
  },
  "nbformat": 4,
  "nbformat_minor": 2
}