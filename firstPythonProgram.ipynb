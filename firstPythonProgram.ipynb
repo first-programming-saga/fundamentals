{
 "cells": [
  {
   "cell_type": "markdown",
   "metadata": {},
   "source": [
    "# 変数と代入\n",
    "- 変数には型がある。\n",
    "- = は右辺を計算して、左辺に代入するという意味"
   ]
  },
  {
   "cell_type": "code",
   "execution_count": null,
   "metadata": {},
   "outputs": [],
   "source": [
    "n = 10 #n という変数に値10を代入  int(整数)型\n",
    "m = 3\n",
    "a = n + m\n",
    "b = n * m\n",
    "c = n / m\n",
    "d = n % m  #n をm で除した余り\n",
    "e = n ** m #nのm乗\n",
    "print(a, b, c, d, e)\n",
    "print(type(n)) #型を確かめる\n"
   ]
  },
  {
   "cell_type": "code",
   "execution_count": null,
   "metadata": {},
   "outputs": [],
   "source": [
    "x = 10. #xという変数に値10.0を代入 float(浮動小数)型\n",
    "y = 3.\n",
    "a = x + y\n",
    "b = x * y\n",
    "c = x / y\n",
    "d = x % y  #n をm で除した余り\n",
    "e = x ** y\n",
    "print(a, b, c, d, e)\n",
    "print(type(x))"
   ]
  },
  {
   "cell_type": "markdown",
   "metadata": {},
   "source": [
    "## 型の変換\n"
   ]
  },
  {
   "cell_type": "code",
   "execution_count": null,
   "metadata": {},
   "outputs": [],
   "source": [
    "n = 10\n",
    "x = float(n) # 浮動小数への変換\n",
    "print(type(n), type(x))\n",
    "m = int(x) # 整数への変換\n",
    "print(type(m))\n",
    "print(n, x, m)"
   ]
  },
  {
   "cell_type": "markdown",
   "metadata": {},
   "source": [
    "# 文字列\n",
    "文字列は、シングルクォーテーションまたは、ダブルクオーテーションで括って定義する。文字列と文字列は+で連結できる。"
   ]
  },
  {
   "cell_type": "code",
   "execution_count": null,
   "metadata": {},
   "outputs": [],
   "source": [
    "s = 'string'\n",
    "t = '\"string\"'\n",
    "u = \"string\"\n",
    "print(s, t, u)"
   ]
  },
  {
   "cell_type": "code",
   "execution_count": null,
   "metadata": {},
   "outputs": [],
   "source": [
    "s = 'saga'\n",
    "u = \"university\"\n",
    "t = s + ' ' + u\n",
    "print(t)"
   ]
  },
  {
   "cell_type": "markdown",
   "metadata": {},
   "source": [
    "## 文字列と数値の型変換"
   ]
  },
  {
   "cell_type": "code",
   "execution_count": null,
   "metadata": {},
   "outputs": [],
   "source": [
    "x = 1.25\n",
    "xs = str(x)\n",
    "y = float(xs)\n",
    "\n",
    "print(type(x), type(xs), type(y))\n",
    "print(x, xs, y)"
   ]
  },
  {
   "cell_type": "code",
   "execution_count": null,
   "metadata": {},
   "outputs": [],
   "source": [
    "x = 125\n",
    "xs = str(x)\n",
    "y = int(xs)\n",
    "print(type(x), type(xs), type(y))\n",
    "print(x, xs, y)"
   ]
  },
  {
   "cell_type": "markdown",
   "metadata": {},
   "source": [
    "## 数値を含む文字列を作る方法\n",
    "- 数値を文字列化し、文字列と連結\n",
    "- 文字列の前にfをつけると、文字列内の{}中に変数名を指定できる"
   ]
  },
  {
   "cell_type": "code",
   "execution_count": null,
   "metadata": {},
   "outputs": [],
   "source": [
    "x = 1.45\n",
    "s = '答えは'+str(x)\n",
    "print(s)\n",
    "s = f'答えは{x}'\n",
    "print(s)"
   ]
  },
  {
   "cell_type": "markdown",
   "metadata": {},
   "source": [
    "# 部分文字列"
   ]
  },
  {
   "cell_type": "code",
   "execution_count": null,
   "metadata": {},
   "outputs": [],
   "source": [
    "alphabet = \"abcdefghijklmnopqrstuvwxyz\"\n",
    "print(alphabet[5])\n",
    "print(alphabet[-10])\n",
    "print(alphabet[0:5])\n",
    "print(alphabet[-10:-1])"
   ]
  },
  {
   "cell_type": "markdown",
   "metadata": {},
   "source": [
    "# 課題\n",
    "二つの変数$x = 10.0$と$y = 3.0$について、$x/y$、$x$を$y$で除した整数部分、$x$を$y$で除した余りをそれぞれ計算するプログラムを作成しなさい。\n",
    "また、その結果を書式制御fを用いて文字列化して、印刷しなさい。"
   ]
  },
  {
   "cell_type": "code",
   "execution_count": null,
   "metadata": {},
   "outputs": [],
   "source": []
  }
 ],
 "metadata": {
  "interpreter": {
   "hash": "7d330ac3c0b25dc381f64ca0c188e362671856c25b4e80802dae9163abcbe1bb"
  },
  "kernelspec": {
   "display_name": "Python 3.9.4 64-bit",
   "name": "python3"
  },
  "language_info": {
   "codemirror_mode": {
    "name": "ipython",
    "version": 3
   },
   "file_extension": ".py",
   "mimetype": "text/x-python",
   "name": "python",
   "nbconvert_exporter": "python",
   "pygments_lexer": "ipython3",
   "version": "3.9.7"
  },
  "orig_nbformat": 4
 },
 "nbformat": 4,
 "nbformat_minor": 2
}
