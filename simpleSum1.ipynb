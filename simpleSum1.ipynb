{
  "cells": [
    {
      "metadata": {},
      "cell_type": "markdown",
      "source": [
        "# 複合演算子を使った簡単な計算"
      ]
    },
    {
      "metadata": {},
      "cell_type": "markdown",
      "source": [
        "複合演算子を使った簡単な計算\n",
        "$$s_1 = a+b+c$$"
      ]
    },
    {
      "metadata": {
        "trusted": true
      },
      "cell_type": "code",
      "source": [
        "a = 10\n",
        "b = 15\n",
        "c = 8\n",
        "\n",
        "s1 = a + b + c"
      ],
      "execution_count": null,
      "outputs": []
    },
    {
      "metadata": {
        "trusted": true
      },
      "cell_type": "code",
      "source": [
        "#複合演算子の利用\n",
        "s2 = 0\n",
        "s2 += a\n",
        "s2 += b\n",
        "s2 += c\n",
        "print(s1,s2)"
      ],
      "execution_count": null,
      "outputs": []
    },
    {
      "metadata": {
        "trusted": true
      },
      "cell_type": "markdown",
      "source": [
        "$$s_3 = \\sum_{k=1}^{10}k = \\frac{10(10+1)}{2}$$"
      ]
    },
    {
      "metadata": {
        "trusted": true,
        "scrolled": true
      },
      "cell_type": "code",
      "source": [
        "s3 = 0\n",
        "for k in range(1,11):#k を1から10まで変化させる\n",
        "    s3 += k\n",
        "print(s3)\n"
      ],
      "execution_count": null,
      "outputs": []
    }
  ],
  "metadata": {
    "kernelspec": {
      "name": "python3",
      "display_name": "Python 3.9.1 64-bit",
      "metadata": {
        "interpreter": {
          "hash": "d1c9a4ba5c9c176023b797405478169ed7f0a7109b887eab21bda023c3c6f220"
        }
      }
    },
    "language_info": {
      "mimetype": "text/x-python",
      "nbconvert_exporter": "python",
      "name": "python",
      "pygments_lexer": "ipython3",
      "version": "3.9.1-final",
      "file_extension": ".py",
      "codemirror_mode": {
        "version": 3,
        "name": "ipython"
      }
    }
  },
  "nbformat": 4,
  "nbformat_minor": 2
}