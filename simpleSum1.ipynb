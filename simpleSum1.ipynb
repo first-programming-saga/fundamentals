{
  "cells": [
    {
      "metadata": {},
      "cell_type": "markdown",
      "source": "# 複合演算子を使った簡単な計算"
    },
    {
      "metadata": {},
      "cell_type": "markdown",
      "source": "複合演算子を使った簡単な計算\n$$s_1 = a+b+c$$"
    },
    {
      "metadata": {
        "trusted": true
      },
      "cell_type": "code",
      "source": "a = 10\nb = 15\nc = 8\n\ns1 = a + b + c",
      "execution_count": null,
      "outputs": []
    },
    {
      "metadata": {
        "trusted": true
      },
      "cell_type": "code",
      "source": "#複合演算子の利用\ns2 = 0\ns2 += a\ns2 += b\ns2 += c\nprint(s1,s2)",
      "execution_count": null,
      "outputs": []
    },
    {
      "metadata": {
        "trusted": true
      },
      "cell_type": "markdown",
      "source": "$$s_3 = \\sum_{k=1}^{10}k = \\frac{10(10+1)}{2}$$"
    },
    {
      "metadata": {
        "trusted": true,
        "scrolled": true
      },
      "cell_type": "code",
      "source": "s3 = 0\nfor k in range(1,11):#k を1から10まで変化させる\n    s3 += k\nprint(s3)\n",
      "execution_count": null,
      "outputs": []
    },
    {
      "metadata": {},
      "cell_type": "markdown",
      "source": "**【課題】**以下の量を複合演算子を使って計算しなさい。\n$$10! = 10\\times9\\times8\\times7\\times6\\times5\\times4\\times3\\times2\\times1$$"
    },
    {
      "metadata": {
        "trusted": true
      },
      "cell_type": "code",
      "source": "",
      "execution_count": null,
      "outputs": []
    }
  ],
  "metadata": {
    "kernelspec": {
      "name": "python36",
      "display_name": "Python 3.6",
      "language": "python"
    },
    "language_info": {
      "mimetype": "text/x-python",
      "nbconvert_exporter": "python",
      "name": "python",
      "pygments_lexer": "ipython3",
      "version": "3.6.6",
      "file_extension": ".py",
      "codemirror_mode": {
        "version": 3,
        "name": "ipython"
      }
    }
  },
  "nbformat": 4,
  "nbformat_minor": 2
}