{
  "cells": [
    {
      "metadata": {},
      "cell_type": "markdown",
      "source": "シミュレーションなどを行う場合、系の大きさが有限$L$であり、右から出たものが左から入り、左から出たものが右から入ることで、端の壁が無いような動きを模倣することがある。\nこれを「周期境界 (periodic boundaries)」と呼ぶ。離散的(descrete)な場合、位置は整数$[0,L)$である。右端$L-1$の右隣が$0$に、左端$0$の左隣が$L-1$とならなければならない。\nこれを効率的に記述するには、徐算の余り\"%\"を利用する。"
    },
    {
      "metadata": {
        "trusted": true
      },
      "cell_type": "code",
      "source": "L=10\nfor i in range(L):\n    j = i+1\n    print(j)",
      "execution_count": null,
      "outputs": []
    },
    {
      "metadata": {
        "trusted": true
      },
      "cell_type": "code",
      "source": "for i in range(L):\n    j = (i+1)%L\n    print(j)",
      "execution_count": null,
      "outputs": []
    },
    {
      "metadata": {
        "trusted": true
      },
      "cell_type": "code",
      "source": "for i in range(L):\n    j = (i-1)%L\n    print(j)",
      "execution_count": null,
      "outputs": []
    },
    {
      "metadata": {
        "trusted": true
      },
      "cell_type": "code",
      "source": "for i in range(L):\n    j = (i+1+L)%L\n    print(j)",
      "execution_count": null,
      "outputs": []
    },
    {
      "metadata": {
        "trusted": true,
        "scrolled": true
      },
      "cell_type": "code",
      "source": "for i in range(L):\n    j = (i-1+L)%L\n    print(j)",
      "execution_count": null,
      "outputs": []
    },
    {
      "metadata": {},
      "cell_type": "markdown",
      "source": "以上から$j=(i\\pm1+L)\\mod L$とすれば対応できることが分かる。"
    }
  ],
  "metadata": {
    "kernelspec": {
      "name": "python36",
      "display_name": "Python 3.6",
      "language": "python"
    },
    "language_info": {
      "mimetype": "text/x-python",
      "nbconvert_exporter": "python",
      "name": "python",
      "pygments_lexer": "ipython3",
      "version": "3.6.6",
      "file_extension": ".py",
      "codemirror_mode": {
        "version": 3,
        "name": "ipython"
      }
    }
  },
  "nbformat": 4,
  "nbformat_minor": 2
}