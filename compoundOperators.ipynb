{
 "cells": [
  {
   "cell_type": "markdown",
   "metadata": {},
   "source": [
    "# 複合代入演算子\n",
    "- 左辺の変数に演算を行い、元の変数に代入\n",
    "- 慣れるとプログラムが書きやすい\n",
    "    - 慣れるまで、無理に使わない"
   ]
  },
  {
   "cell_type": "code",
   "execution_count": null,
   "metadata": {},
   "outputs": [],
   "source": [
    "s = 0\n",
    "s += 1 # s = s + 1と同じ\n",
    "s += 2\n",
    "s += 3\n",
    "print(s)"
   ]
  },
  {
   "cell_type": "code",
   "execution_count": null,
   "metadata": {},
   "outputs": [],
   "source": [
    "p = 1\n",
    "p *= 2 # p = p * 2 と同じ\n",
    "p *= 3\n",
    "p *= 4\n",
    "print(p)"
   ]
  },
  {
   "cell_type": "code",
   "execution_count": null,
   "metadata": {},
   "outputs": [],
   "source": [
    "x = 1\n",
    "x /= 2 # x = x / 2 と同じ\n",
    "x /= 2\n",
    "print(x)"
   ]
  },
  {
   "cell_type": "code",
   "execution_count": null,
   "metadata": {},
   "outputs": [],
   "source": [
    "a3 = 0\n",
    "for k in range(1,11): #kを1から10まで変化させる\n",
    "    a3 += k\n",
    "print(a3)"
   ]
  }
 ],
 "metadata": {
  "interpreter": {
   "hash": "7d330ac3c0b25dc381f64ca0c188e362671856c25b4e80802dae9163abcbe1bb"
  },
  "kernelspec": {
   "display_name": "Python 3.9.4 64-bit",
   "name": "python3"
  },
  "language_info": {
   "codemirror_mode": {
    "name": "ipython",
    "version": 3
   },
   "file_extension": ".py",
   "mimetype": "text/x-python",
   "name": "python",
   "nbconvert_exporter": "python",
   "pygments_lexer": "ipython3",
   "version": "3.9.7"
  },
  "orig_nbformat": 4
 },
 "nbformat": 4,
 "nbformat_minor": 2
}
