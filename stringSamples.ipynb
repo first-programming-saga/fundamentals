{
  "cells": [
    {
      "metadata": {
        "collapsed": true
      },
      "cell_type": "markdown",
      "source": "# 文字列"
    },
    {
      "metadata": {},
      "cell_type": "markdown",
      "source": "文字列はシングルクォーテーションまたはダブルクォーテーションで定義する。"
    },
    {
      "metadata": {
        "trusted": true
      },
      "cell_type": "code",
      "source": "str1 = \"これは文字列です\"\nstr2 = 'これも文字列です'\nstr3 = '文字列\"まるまる\"のようにも使えます'\nprint(str1)\nprint(str2)\nprint(str3)",
      "execution_count": null,
      "outputs": []
    },
    {
      "metadata": {
        "trusted": true,
        "scrolled": true
      },
      "cell_type": "code",
      "source": "multiline = \"\"\"複数行にわたる\n文字列を定義することもできます。\n\"\"\"\nprint(multiline)",
      "execution_count": null,
      "outputs": []
    },
    {
      "metadata": {},
      "cell_type": "markdown",
      "source": "文字列の連結は\"+\"で行う"
    },
    {
      "metadata": {
        "trusted": true
      },
      "cell_type": "code",
      "source": "a = \"pine\"\nb = \"apple\"\nc = a + b\nprint(c)",
      "execution_count": null,
      "outputs": []
    },
    {
      "metadata": {},
      "cell_type": "markdown",
      "source": "文字列中の各文字は、先頭0から番号で取り出すことができる。最後尾を-1として指定することもできる。"
    },
    {
      "metadata": {
        "trusted": true
      },
      "cell_type": "code",
      "source": "alphabet = \"abcdefghijklmnopqrstuvwxyz\"\nprint(alphabet[5])\nprint(alphabet[-10])\nprint(alphabet[0:5])\nprint(alphabet[-10:-1])",
      "execution_count": null,
      "outputs": []
    },
    {
      "metadata": {},
      "cell_type": "markdown",
      "source": "繰り返し文字列の生成"
    },
    {
      "metadata": {
        "trusted": true
      },
      "cell_type": "code",
      "source": "a10 = \"a\"*10\nabc10 = \"abc\"*10\nprint(a10)\nprint(abc10)",
      "execution_count": null,
      "outputs": []
    },
    {
      "metadata": {
        "trusted": true
      },
      "cell_type": "code",
      "source": "",
      "execution_count": null,
      "outputs": []
    }
  ],
  "metadata": {
    "kernelspec": {
      "name": "python36",
      "display_name": "Python 3.6",
      "language": "python"
    },
    "language_info": {
      "mimetype": "text/x-python",
      "nbconvert_exporter": "python",
      "name": "python",
      "pygments_lexer": "ipython3",
      "version": "3.6.6",
      "file_extension": ".py",
      "codemirror_mode": {
        "version": 3,
        "name": "ipython"
      }
    }
  },
  "nbformat": 4,
  "nbformat_minor": 2
}