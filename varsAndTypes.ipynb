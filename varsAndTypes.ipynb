{
  "cells": [
    {
      "metadata": {
        "collapsed": true
      },
      "cell_type": "markdown",
      "source": "変数の型に注意する。"
    },
    {
      "metadata": {
        "trusted": true
      },
      "cell_type": "code",
      "source": "a = 10\nb = 20\nc = 0.1\n",
      "execution_count": 10,
      "outputs": []
    },
    {
      "metadata": {},
      "cell_type": "markdown",
      "source": "各変数の型を印刷"
    },
    {
      "metadata": {
        "trusted": true
      },
      "cell_type": "code",
      "source": "print(type(a))\nprint(type(b))\nprint(type(c))\n",
      "execution_count": 11,
      "outputs": [
        {
          "output_type": "stream",
          "text": "<class 'int'>\n<class 'int'>\n<class 'float'>\n",
          "name": "stdout"
        }
      ]
    },
    {
      "metadata": {
        "trusted": true,
        "scrolled": true
      },
      "cell_type": "code",
      "source": "x = 3+2j#複素数\nprint(x)\nprint(type(x))\n",
      "execution_count": 12,
      "outputs": [
        {
          "output_type": "stream",
          "text": "(3+2j)\n<class 'complex'>\n",
          "name": "stdout"
        }
      ]
    },
    {
      "metadata": {},
      "cell_type": "markdown",
      "source": "演算結果の型を確認"
    },
    {
      "metadata": {
        "trusted": true,
        "scrolled": true
      },
      "cell_type": "code",
      "source": "d = a*b\nf = a/b\nprint(d)\nprint(type(d))\nprint(f)\nprint(type(f))\n",
      "execution_count": 13,
      "outputs": [
        {
          "output_type": "stream",
          "text": "200\n<class 'int'>\n0.5\n<class 'float'>\n",
          "name": "stdout"
        }
      ]
    },
    {
      "metadata": {},
      "cell_type": "markdown",
      "source": "型の変換"
    },
    {
      "metadata": {
        "trusted": true
      },
      "cell_type": "code",
      "source": "g = float(d)#intからfloatへ\nprint(g)\nprint(type(g))\n",
      "execution_count": 14,
      "outputs": [
        {
          "output_type": "stream",
          "text": "200.0\n<class 'float'>\n",
          "name": "stdout"
        }
      ]
    },
    {
      "metadata": {
        "trusted": true
      },
      "cell_type": "code",
      "source": "s = str(g)#floatからstrへ\nprint(s)\nh = float('0.01')\nprint(h)\n",
      "execution_count": 15,
      "outputs": [
        {
          "output_type": "stream",
          "text": "200.0\n0.01\n",
          "name": "stdout"
        }
      ]
    },
    {
      "metadata": {},
      "cell_type": "markdown",
      "source": "**【課題】**文字列として作成した\"1\"と、数値(int)をして作成した1を足すとエラーになることを確かめなさい。"
    },
    {
      "metadata": {
        "trusted": true
      },
      "cell_type": "code",
      "source": "",
      "execution_count": null,
      "outputs": []
    }
  ],
  "metadata": {
    "kernelspec": {
      "name": "python36",
      "display_name": "Python 3.6",
      "language": "python"
    },
    "language_info": {
      "mimetype": "text/x-python",
      "nbconvert_exporter": "python",
      "name": "python",
      "pygments_lexer": "ipython3",
      "version": "3.6.6",
      "file_extension": ".py",
      "codemirror_mode": {
        "version": 3,
        "name": "ipython"
      }
    }
  },
  "nbformat": 4,
  "nbformat_minor": 2
}